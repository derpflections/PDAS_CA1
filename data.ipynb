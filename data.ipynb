{
 "cells": [
  {
   "cell_type": "code",
   "execution_count": null,
   "metadata": {},
   "outputs": [],
   "source": [
    "print('hongyi is nub')\n",
    "print('meow')"
   ]
  }
 ],
 "metadata": {
  "kernelspec": {
   "display_name": "Python 3.9.13 ('base')",
   "language": "python",
   "name": "python3"
  },
  "language_info": {
   "name": "python",
   "version": "3.9.13"
  },
  "orig_nbformat": 4,
  "vscode": {
   "interpreter": {
    "hash": "fdd96622e71e0dd0c6673d845b9b49f7e8da90d80427d9ab2015a7aeebbcf40c"
   }
  }
 },
 "nbformat": 4,
 "nbformat_minor": 2
}

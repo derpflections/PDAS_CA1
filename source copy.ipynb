{
 "cells": [
  {
   "cell_type": "markdown",
   "metadata": {},
   "source": [
    " ST1510 PDAS CA1 Assignment Source File\n",
    "\n",
    " Name: Lee Hong Yi\n",
    "\n",
    " Admin Number: 2223010\n",
    " \n",
    " Class: DAAA/FT/1B/05"
   ]
  },
  {
   "cell_type": "markdown",
   "metadata": {},
   "source": [
    "Importing Libraries"
   ]
  },
  {
   "cell_type": "code",
   "execution_count": 27,
   "metadata": {},
   "outputs": [],
   "source": [
    "import numpy as np \n",
    "import matplotlib as plt"
   ]
  },
  {
   "cell_type": "markdown",
   "metadata": {},
   "source": [
    "Importing data from .csv datasets."
   ]
  },
  {
   "cell_type": "code",
   "execution_count": 28,
   "metadata": {},
   "outputs": [],
   "source": [
    "secondaryData = np.genfromtxt('./sourcefiles/enrolment-secondary-by-level-and-course.csv', delimiter = ',', skip_header = 1, dtype = [('year','i8'),('level','U255'),('course','U255'),('gender','U255'),('enrolment','i8')])\n",
    "iteData = np.genfromtxt('./sourcefiles/ite-intake-enrolment-and-graduates-by-course.csv', delimiter = ',', skip_header = 1, usecols = [0, 1, 2, 4], dtype = [('year','i8'), ('gender','U255'),('course','U255'), ('enrolment','i8')])\n",
    "polyData = np.genfromtxt('./sourcefiles/polytechnics-intake-enrolment-and-graduates-by-course.csv', delimiter = ',', skip_header = 1, usecols = [0,1,2,4],dtype = [('year','i8'), ('gender','U255'), ('course','U255'), ('enrolment','i8')])\n",
    "preuData = np.genfromtxt('./sourcefiles/enrolment-pre-university-by-level-and-course.csv', delimiter = ',', skip_header = 1, dtype = [('year','i8'), ('level','U255'), ('course','U255'), ('gender','U255'),('enrolment','i8')], missing_values= '-', filling_values= 0)\n",
    "cat1filter, cat2filter, cat3filter, cat4filter, cat5filter, cat6filter, cat7filter = [], [], [], [], [], [], []"
   ]
  },
  {
   "cell_type": "markdown",
   "metadata": {},
   "source": [
    "Analysing the content of the datasets"
   ]
  },
  {
   "cell_type": "code",
   "execution_count": 29,
   "metadata": {},
   "outputs": [
    {
     "name": "stdout",
     "output_type": "stream",
     "text": [
      "**Analysis of course intake and enrolment for secondary schools**\n",
      "There are 1338 rows and 5 columns in this dataset\n",
      "\n",
      "- year <class 'numpy.int64'>, isnumeric = True\n",
      "- level <class 'numpy.str_'>, isnumeric = False\n",
      "- course <class 'numpy.str_'>, isnumeric = False\n",
      "- gender <class 'numpy.str_'>, isnumeric = False\n",
      "- enrolment <class 'numpy.int64'>, isnumeric = True\n",
      "\n",
      "\n",
      "There are 41 unique values in the column \"year\"\n",
      "There are 5 unique values in the column \"level\"\n",
      "There are 4 unique values in the column \"course\"\n",
      "There are 2 unique values in the column \"gender\"\n",
      "There are 1102 unique values in the column \"enrolment\"\n"
     ]
    }
   ],
   "source": [
    "counter = 0\n",
    "print(f\"**Analysis of course intake and enrolment for secondary schools**\")\n",
    "print(f\"There are {len(secondaryData)} rows and {len(secondaryData[1])} columns in this dataset\\n\")\n",
    "\n",
    "for i in secondaryData[1]:\n",
    "    print(f\"- {secondaryData.dtype.names[counter]} {type(secondaryData[secondaryData.dtype.names[counter]][1])}, isnumeric = {np.issubdtype(type(secondaryData[secondaryData.dtype.names[counter]][1]), np.number)}\")\n",
    "    counter += 1\n",
    "print('\\n')\n",
    "counter = 0 \n",
    "for i in secondaryData[1]:\n",
    "    print(f\"There are {len(np.unique(secondaryData[secondaryData.dtype.names[counter]]))} unique values in the column \\\"{secondaryData.dtype.names[counter]}\\\"\")\n",
    "    counter += 1"
   ]
  },
  {
   "cell_type": "code",
   "execution_count": 30,
   "metadata": {},
   "outputs": [
    {
     "name": "stdout",
     "output_type": "stream",
     "text": [
      "**Analysis of course intake and enrolment for ITE**\n",
      "There are 144 rows and 4 columns in this dataset\n",
      "\n",
      "- year <class 'numpy.int64'>, isnumeric = True\n",
      "- gender <class 'numpy.str_'>, isnumeric = False\n",
      "- course <class 'numpy.str_'>, isnumeric = False\n",
      "- enrolment <class 'numpy.int64'>, isnumeric = True\n",
      "\n",
      "\n",
      "There are 12 unique values in the column \"year\"\n",
      "There are 2 unique values in the column \"gender\"\n",
      "There are 6 unique values in the column \"course\"\n",
      "There are 136 unique values in the column \"enrolment\"\n"
     ]
    }
   ],
   "source": [
    "counter = 0\n",
    "print(f\"**Analysis of course intake and enrolment for ITE**\")\n",
    "print(f\"There are {len(iteData)} rows and {len(iteData[1])} columns in this dataset\\n\")\n",
    "\n",
    "for i in iteData[1]:\n",
    "    print(f\"- {iteData.dtype.names[counter]} {type(iteData[iteData.dtype.names[counter]][1])}, isnumeric = {np.issubdtype(type(iteData[iteData.dtype.names[counter]][1]), np.number)}\")\n",
    "    counter += 1\n",
    "print('\\n')\n",
    "counter = 0 \n",
    "for i in iteData[1]:\n",
    "    print(f\"There are {len(np.unique(iteData[iteData.dtype.names[counter]]))} unique values in the column \\\"{iteData.dtype.names[counter]}\\\"\")\n",
    "    counter += 1"
   ]
  },
  {
   "cell_type": "code",
   "execution_count": 31,
   "metadata": {},
   "outputs": [
    {
     "name": "stdout",
     "output_type": "stream",
     "text": [
      "**Analysis of course intake and enrolment for polytechnics**\n",
      "There are 384 rows and 4 columns in this dataset\n",
      "\n",
      "- year <class 'numpy.int64'>, isnumeric = True\n",
      "- gender <class 'numpy.str_'>, isnumeric = False\n",
      "- course <class 'numpy.str_'>, isnumeric = False\n",
      "- enrolment <class 'numpy.int64'>, isnumeric = True\n",
      "\n",
      "\n",
      "There are 16 unique values in the column \"year\"\n",
      "There are 2 unique values in the column \"gender\"\n",
      "There are 13 unique values in the column \"course\"\n",
      "There are 371 unique values in the column \"enrolment\"\n"
     ]
    }
   ],
   "source": [
    "counter = 0\n",
    "print(f\"**Analysis of course intake and enrolment for polytechnics**\")\n",
    "print(f\"There are {len(polyData)} rows and {len(polyData[1])} columns in this dataset\\n\")\n",
    "\n",
    "for i in polyData[1]:\n",
    "    print(f\"- {polyData.dtype.names[counter]} {type(polyData[polyData.dtype.names[counter]][1])}, isnumeric = {np.issubdtype(type(polyData[polyData.dtype.names[counter]][1]), np.number)}\")\n",
    "    counter += 1\n",
    "print('\\n')\n",
    "counter = 0 \n",
    "for i in polyData[1]:\n",
    "    print(f\"There are {len(np.unique(polyData[polyData.dtype.names[counter]]))} unique values in the column \\\"{polyData.dtype.names[counter]}\\\"\")\n",
    "    counter += 1"
   ]
  },
  {
   "cell_type": "code",
   "execution_count": 32,
   "metadata": {},
   "outputs": [
    {
     "name": "stdout",
     "output_type": "stream",
     "text": [
      "**Analysis of course intake and enrolment for A-Level Students (JC/MI)**\n",
      "There are 1218 rows and 5 columns in this dataset\n",
      "\n",
      "- year <class 'numpy.int64'>, isnumeric = True\n",
      "- level <class 'numpy.str_'>, isnumeric = False\n",
      "- course <class 'numpy.str_'>, isnumeric = False\n",
      "- gender <class 'numpy.str_'>, isnumeric = False\n",
      "- enrolment <class 'numpy.int64'>, isnumeric = True\n",
      "\n",
      "\n",
      "There are 41 unique values in the column \"year\"\n",
      "There are 5 unique values in the column \"level\"\n",
      "There are 3 unique values in the column \"course\"\n",
      "There are 2 unique values in the column \"gender\"\n",
      "There are 756 unique values in the column \"enrolment\"\n"
     ]
    }
   ],
   "source": [
    "counter = 0\n",
    "print(f\"**Analysis of course intake and enrolment for A-Level Students (JC/MI)**\")\n",
    "print(f\"There are {len(preuData)} rows and {len(preuData[1])} columns in this dataset\\n\")\n",
    "\n",
    "for i in preuData[1]:\n",
    "    print(f\"- {preuData.dtype.names[counter]} {type(preuData[preuData.dtype.names[counter]][1])}, isnumeric = {np.issubdtype(type(preuData[preuData.dtype.names[counter]][1]), np.number)}\")\n",
    "    counter += 1\n",
    "print('\\n')\n",
    "counter = 0 \n",
    "for i in preuData[1]:\n",
    "    print(f\"There are {len(np.unique(preuData[preuData.dtype.names[counter]]))} unique values in the column \\\"{preuData.dtype.names[counter]}\\\"\")\n",
    "    counter += 1"
   ]
  },
  {
   "cell_type": "markdown",
   "metadata": {},
   "source": [
    "Determining which year to start the analysis from, as the datasets all start from different points.\n"
   ]
  },
  {
   "cell_type": "code",
   "execution_count": 33,
   "metadata": {},
   "outputs": [
    {
     "name": "stdout",
     "output_type": "stream",
     "text": [
      "The secondaryData array starts from the year 1980.\n",
      "The iteData array starts from the year 2009.\n",
      "The polyData array starts from the year 2005.\n",
      "The preuData array starts from the year 1980.\n"
     ]
    }
   ],
   "source": [
    "print(f\"The secondaryData array starts from the year {np.unique(secondaryData['year'])[0]}.\")\n",
    "print(f\"The iteData array starts from the year {np.unique(iteData['year'])[0]}.\")\n",
    "print(f\"The polyData array starts from the year {np.unique(polyData['year'])[0]}.\")\n",
    "print(f\"The preuData array starts from the year {np.unique(preuData['year'])[0]}.\")"
   ]
  },
  {
   "cell_type": "markdown",
   "metadata": {},
   "source": [
    "As the first year that all the datasets have in common in 2009, the data will be taken from 2009 onwards. \n"
   ]
  },
  {
   "cell_type": "code",
   "execution_count": 34,
   "metadata": {},
   "outputs": [],
   "source": [
    "secondaryfilter = secondaryData['year'] >= 2008\n",
    "itefilter = iteData['year'] >= 2009\n",
    "polyfilter = polyData['year'] >= 2009\n",
    "preufilter = preuData['year'] >= 2009\n",
    "\n",
    "secondaryClean = secondaryData[secondaryfilter]\n",
    "iteClean = iteData[itefilter]\n",
    "polyClean = polyData[polyfilter]\n",
    "preuClean = preuData[preufilter]\n",
    " "
   ]
  },
  {
   "cell_type": "code",
   "execution_count": 35,
   "metadata": {},
   "outputs": [
    {
     "name": "stdout",
     "output_type": "stream",
     "text": [
      "['Express' 'Normal (Acad)' 'Normal (Tech)' 'Special']\n",
      "['Applied and Health Sciences' 'Business & Services' 'Design & Media'\n",
      " 'Electronics & Infocomm Technology' 'Engineering' 'Hospitality']\n",
      "['Applied Arts' 'Architecture & Building & Real Estate'\n",
      " 'Business & Administration' 'Education' 'Engineering Sciences'\n",
      " 'Health Sciences' 'Humanities & Social Sciences' 'Information Technology'\n",
      " 'Law' 'Mass Communication' 'Natural & Mathematical Sciences'\n",
      " 'Natural & Physical & Mathematical Sciences' 'Services']\n",
      "['Arts' 'Commerce' 'Science']\n"
     ]
    }
   ],
   "source": [
    "print(np.unique(secondaryClean['course']))\n",
    "print(np.unique(iteClean['course']))\n",
    "print(np.unique(polyClean['course']))\n",
    "print(np.unique(preuClean['course']))"
   ]
  },
  {
   "cell_type": "markdown",
   "metadata": {},
   "source": [
    "Defining array of variables for use later, as well as defining categorized variables"
   ]
  },
  {
   "cell_type": "code",
   "execution_count": 36,
   "metadata": {},
   "outputs": [],
   "source": [
    "dataArray = [secondaryClean, iteClean, polyClean, preuClean]\n",
    "tetArray = [iteClean, polyClean, preuClean]\n",
    "secondaryNumber,cat1num, cat2num, cat3num, cat4num, cat5num, cat6num, cat7num = [], [], [], [], [], [], [], []\n",
    "catNumber = [secondaryNumber, cat1num, cat2num, cat3num, cat4num, cat5num, cat6num, cat7num]"
   ]
  },
  {
   "cell_type": "markdown",
   "metadata": {},
   "source": [
    "Defining array for each category"
   ]
  },
  {
   "cell_type": "code",
   "execution_count": 37,
   "metadata": {},
   "outputs": [
    {
     "name": "stdout",
     "output_type": "stream",
     "text": [
      "[50919, 52186, 52073, 51263, 51325, 49190, 45183, 45413, 47869, 43031, 42238, 39522]\n"
     ]
    }
   ],
   "source": [
    "for i in range (2008, 2020):\n",
    "    targetArr = secondaryClean\n",
    "    filter1 = (targetArr['year'] == i) & (targetArr['level'] == 'Secondary 4') & (targetArr['gender'] == 'MF')\n",
    "    secondaryNumber.append(secondaryClean[filter1]['enrolment'].sum())\n",
    "print(secondaryNumber)"
   ]
  },
  {
   "cell_type": "code",
   "execution_count": 38,
   "metadata": {},
   "outputs": [
    {
     "name": "stdout",
     "output_type": "stream",
     "text": [
      "[False False False False False False False False False False  True False\n",
      " False False False False False False False False False False False False\n",
      " False False False False False False False False False False False False\n",
      " False False False False False False False False False False False False\n",
      " False False False False False False False False False False False False\n",
      " False False False False False False False False False False False False\n",
      " False False False False False False False False False False False False\n",
      " False False False False False False False False False False False False\n",
      " False False False False False False False False False False False False\n",
      " False False False False False False False False False False False False\n",
      " False False False False False False False False False False False False\n",
      " False False False False False False False False False False False False\n",
      " False False False False False False False False False False False False\n",
      " False False False False False False False False False False False False\n",
      " False False False False False False False False False False False False\n",
      " False False False False False False False False False False False False\n",
      " False False False False False False False False False False False False\n",
      " False False False False False False False False False False False False\n",
      " False False False False False False False False False False False False\n",
      " False False False False False False False False False False False False\n",
      " False False False False False False False False False False False False\n",
      " False False False False False False False False False False False False\n",
      " False False False False False False False False False False False False\n",
      " False False False False False False False False False False False False]\n",
      "[(2009, 'MF', 'Health Sciences', 7082)]\n",
      "[False False False False False False False False False False False False\n",
      " False False False False False False False False  True False False False\n",
      " False False False False False False False False False False False False\n",
      " False False False False False False False False False False False False\n",
      " False False False False False False False False False False False False\n",
      " False False False False False False False False False False False False\n",
      " False False False False False False False False False False False False\n",
      " False False False False False False False False False False False False\n",
      " False False False False False False False False False False False False\n",
      " False False False False False False False False False False False False\n",
      " False False False False False False False False False False False False\n",
      " False False False False False False False False False False False False\n",
      " False False False False False False False False False False False False\n",
      " False False False False False False False False False False False False\n",
      " False False False False False False False False False False False False\n",
      " False False False False False False False False False False False False\n",
      " False False False False False False False False False False False False\n",
      " False False False False False False False False False False False False\n",
      " False False False False False False False False False False False False\n",
      " False False False False False False False False False False False False\n",
      " False False False False False False False False False False False False\n",
      " False False False False False False False False False False False False\n",
      " False False False False False False False False False False False False\n",
      " False False False False False False False False False False False False]\n",
      "[(2009, 'MF', 'Natural & Physical & Mathematical Sciences', 3977)]\n"
     ]
    }
   ],
   "source": [
    "tartempArr = polyClean\n",
    "testFilter = (tartempArr['course'] == ('Health Sciences' or 'Natural & Mathematical Sciences' or 'Natural & Physical & Mathematical Sciences')) & (tartempArr['gender'] == 'MF') & (tartempArr['year'] == 2009)\n",
    "print(testFilter)\n",
    "print(polyClean[testFilter])\n",
    "testFilter = (tartempArr['course'] == ('Natural & Physical & Mathematical Sciences')) & (tartempArr['gender'] == 'MF') & (tartempArr['year'] == 2009)\n",
    "print(testFilter)\n",
    "print(polyClean[testFilter])"
   ]
  },
  {
   "cell_type": "markdown",
   "metadata": {},
   "source": [
    "Defining filters"
   ]
  },
  {
   "cell_type": "code",
   "execution_count": 42,
   "metadata": {},
   "outputs": [],
   "source": [
    "def catFilter(targetArr, year):\n",
    "    cat1filter = (targetArr['year'] == year) & ((targetArr['course'] == 'Applied and Health Sciences') | (targetArr['course'] == 'Health Sciences') | (targetArr['course'] == 'Natural & Mathematical Sciences') | (targetArr['course'] == 'Natural & Physical & Mathematical Sciences') | (targetArr['course'] == 'Science')) & (targetArr['gender'] == 'MF')\n",
    "\n",
    "    filterArray = [cat1filter, cat2filter, cat3filter, cat4filter, cat5filter, cat6filter, cat7filter]\n",
    "    print(targetArr[cat1filter])"
   ]
  },
  {
   "cell_type": "markdown",
   "metadata": {},
   "source": [
    "Breaking the courses down into 7 categories ( Science (1), Arts (2), Business (3), Infocomm (4), Engineering (5), Service (6), Social (7). )"
   ]
  },
  {
   "cell_type": "code",
   "execution_count": 43,
   "metadata": {},
   "outputs": [
    {
     "name": "stdout",
     "output_type": "stream",
     "text": [
      "[(2009, 'MF', 'Applied and Health Sciences', 2172)]\n",
      "[(2009, 'MF', 'Health Sciences', 7082)\n",
      " (2009, 'MF', 'Natural & Physical & Mathematical Sciences', 3977)]\n",
      "[(2009, 'Junior College 1', 'Science', 'MF', 13439)\n",
      " (2009, 'Junior College 2', 'Science', 'MF', 12119)\n",
      " (2009, 'Pre-University 1', 'Science', 'MF',   236)\n",
      " (2009, 'Pre-University 2', 'Science', 'MF',   130)\n",
      " (2009, 'Pre-University 3', 'Science', 'MF',   114)]\n",
      "[(2010, 'MF', 'Applied and Health Sciences', 2198)]\n",
      "[(2010, 'MF', 'Health Sciences', 7588)\n",
      " (2010, 'MF', 'Natural & Physical & Mathematical Sciences', 4346)]\n",
      "[(2010, 'Junior College 1', 'Science', 'MF', 13594)\n",
      " (2010, 'Junior College 2', 'Science', 'MF', 12324)\n",
      " (2010, 'Pre-University 1', 'Science', 'MF',   223)\n",
      " (2010, 'Pre-University 2', 'Science', 'MF',   168)\n",
      " (2010, 'Pre-University 3', 'Science', 'MF',    97)]\n",
      "[(2011, 'MF', 'Applied and Health Sciences', 2447)]\n",
      "[(2011, 'MF', 'Health Sciences', 7747)\n",
      " (2011, 'MF', 'Natural & Physical & Mathematical Sciences', 4620)]\n",
      "[(2011, 'Junior College 1', 'Science', 'MF', 13426)\n",
      " (2011, 'Junior College 2', 'Science', 'MF', 12440)\n",
      " (2011, 'Pre-University 1', 'Science', 'MF',   196)\n",
      " (2011, 'Pre-University 2', 'Science', 'MF',   182)\n",
      " (2011, 'Pre-University 3', 'Science', 'MF',   123)]\n",
      "[(2012, 'MF', 'Applied and Health Sciences', 2469)]\n",
      "[(2012, 'MF', 'Health Sciences', 7338)\n",
      " (2012, 'MF', 'Natural & Physical & Mathematical Sciences', 4735)]\n",
      "[(2012, 'Junior College 1', 'Science', 'MF', 13130)\n",
      " (2012, 'Junior College 2', 'Science', 'MF', 12208)\n",
      " (2012, 'Pre-University 1', 'Science', 'MF',   183)\n",
      " (2012, 'Pre-University 2', 'Science', 'MF',   146)\n",
      " (2012, 'Pre-University 3', 'Science', 'MF',   132)]\n",
      "[(2013, 'MF', 'Applied and Health Sciences', 2346)]\n",
      "[(2013, 'MF', 'Health Sciences', 7162)\n",
      " (2013, 'MF', 'Natural & Physical & Mathematical Sciences', 4765)]\n",
      "[(2013, 'Junior College 1', 'Science', 'MF', 13407)\n",
      " (2013, 'Junior College 2', 'Science', 'MF', 11987)\n",
      " (2013, 'Pre-University 1', 'Science', 'MF',   211)\n",
      " (2013, 'Pre-University 2', 'Science', 'MF',   137)\n",
      " (2013, 'Pre-University 3', 'Science', 'MF',   105)]\n",
      "[(2014, 'MF', 'Applied and Health Sciences', 2597)]\n",
      "[(2014, 'MF', 'Health Sciences', 6902)\n",
      " (2014, 'MF', 'Natural & Physical & Mathematical Sciences', 4814)]\n",
      "[(2014, 'Junior College 1', 'Science', 'MF', 12640)\n",
      " (2014, 'Junior College 2', 'Science', 'MF', 12434)\n",
      " (2014, 'Pre-University 1', 'Science', 'MF',   199)\n",
      " (2014, 'Pre-University 2', 'Science', 'MF',   167)\n",
      " (2014, 'Pre-University 3', 'Science', 'MF',   100)]\n",
      "[(2015, 'MF', 'Applied and Health Sciences', 2523)]\n",
      "[(2015, 'MF', 'Health Sciences', 7960)\n",
      " (2015, 'MF', 'Natural & Physical & Mathematical Sciences', 4564)]\n",
      "[(2015, 'Junior College 1', 'Science', 'MF', 11535)\n",
      " (2015, 'Junior College 2', 'Science', 'MF', 11779)\n",
      " (2015, 'Pre-University 1', 'Science', 'MF',   164)\n",
      " (2015, 'Pre-University 2', 'Science', 'MF',   161)\n",
      " (2015, 'Pre-University 3', 'Science', 'MF',   119)]\n",
      "[(2016, 'MF', 'Applied and Health Sciences', 2322)]\n",
      "[(2016, 'MF', 'Health Sciences', 7806)\n",
      " (2016, 'MF', 'Natural & Physical & Mathematical Sciences', 4302)]\n",
      "[(2016, 'Junior College 1', 'Science', 'MF', 11679)\n",
      " (2016, 'Junior College 2', 'Science', 'MF', 10805)\n",
      " (2016, 'Pre-University 1', 'Science', 'MF',   167)\n",
      " (2016, 'Pre-University 2', 'Science', 'MF',   129)\n",
      " (2016, 'Pre-University 3', 'Science', 'MF',   140)]\n",
      "[(2017, 'MF', 'Applied and Health Sciences', 2537)]\n",
      "[(2017, 'MF', 'Health Sciences', 7798)\n",
      " (2017, 'MF', 'Natural & Physical & Mathematical Sciences', 3982)]\n",
      "[(2017, 'Junior College 1', 'Science', 'MF', 12411)\n",
      " (2017, 'Junior College 2', 'Science', 'MF', 11003)\n",
      " (2017, 'Pre-University 1', 'Science', 'MF',   182)\n",
      " (2017, 'Pre-University 2', 'Science', 'MF',   123)\n",
      " (2017, 'Pre-University 3', 'Science', 'MF',    92)]\n",
      "[(2018, 'MF', 'Applied and Health Sciences', 2503)]\n",
      "[(2018, 'MF', 'Health Sciences', 7856)\n",
      " (2018, 'MF', 'Natural & Physical & Mathematical Sciences', 3794)]\n",
      "[(2018, 'Junior College 1', 'Science', 'MF', 11720)\n",
      " (2018, 'Junior College 2', 'Science', 'MF', 11811)\n",
      " (2018, 'Pre-University 1', 'Science', 'MF',   175)\n",
      " (2018, 'Pre-University 2', 'Science', 'MF',   135)\n",
      " (2018, 'Pre-University 3', 'Science', 'MF',    65)]\n",
      "[(2019, 'MF', 'Applied and Health Sciences', 2458)]\n",
      "[(2019, 'MF', 'Health Sciences', 7892)\n",
      " (2019, 'MF', 'Natural & Physical & Mathematical Sciences', 3623)]\n",
      "[(2019, 'Junior College 1', 'Science', 'MF', 11129)\n",
      " (2019, 'Junior College 2', 'Science', 'MF', 11234)\n",
      " (2019, 'Pre-University 1', 'Science', 'MF',   212)\n",
      " (2019, 'Pre-University 2', 'Science', 'MF',   121)\n",
      " (2019, 'Pre-University 3', 'Science', 'MF',    88)]\n"
     ]
    }
   ],
   "source": [
    "for i in range (2009, 2020):\n",
    "    catFilter(iteClean, i)\n",
    "    catFilter(polyClean, i)\n",
    "    catFilter(preuClean, i)"
   ]
  }
 ],
 "metadata": {
  "kernelspec": {
   "display_name": "Python 3.9.12 ('base')",
   "language": "python",
   "name": "python3"
  },
  "language_info": {
   "codemirror_mode": {
    "name": "ipython",
    "version": 3
   },
   "file_extension": ".py",
   "mimetype": "text/x-python",
   "name": "python",
   "nbconvert_exporter": "python",
   "pygments_lexer": "ipython3",
   "version": "3.9.12"
  },
  "vscode": {
   "interpreter": {
    "hash": "6770e526c1821d5423e79357bfd4989d9555a179cd8d1e2fda4a6918cc4a56ca"
   }
  }
 },
 "nbformat": 4,
 "nbformat_minor": 2
}

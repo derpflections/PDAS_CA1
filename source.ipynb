{
 "cells": [
  {
   "cell_type": "markdown",
   "metadata": {},
   "source": [
    " ST1510 PDAS CA1 Assignment Source File\n",
    "\n",
    " Name: Lee Hong Yi\n",
    "\n",
    " Admin Number: 2223010\n",
    " \n",
    " Class: DAAA/FT/1B/05"
   ]
  },
  {
   "cell_type": "markdown",
   "metadata": {},
   "source": [
    "Importing Libraries"
   ]
  },
  {
   "cell_type": "code",
   "execution_count": 84,
   "metadata": {},
   "outputs": [],
   "source": [
    "import numpy as np \n",
    "import matplotlib as plt"
   ]
  },
  {
   "cell_type": "markdown",
   "metadata": {},
   "source": [
    "Importing data from .csv datasets."
   ]
  },
  {
   "cell_type": "code",
   "execution_count": 85,
   "metadata": {},
   "outputs": [],
   "source": [
    "secondaryData = np.genfromtxt('./sourcefiles/enrolment-secondary-by-level-and-course.csv', delimiter = ',', skip_header = 1, dtype = [('year','i8'),('level','U255'),('course','U255'),('gender','U255'),('enrolment','i8')])\n",
    "iteData = np.genfromtxt('./sourcefiles/ite-intake-enrolment-and-graduates-by-course.csv', delimiter = ',', skip_header = 1, usecols = [0, 1, 2, 4], dtype = [('year','i8'), ('gender','U255'),('course','U255'), ('enrolment','i8')])\n",
    "polyData = np.genfromtxt('./sourcefiles/polytechnics-intake-enrolment-and-graduates-by-course.csv', delimiter = ',', skip_header = 1, usecols = [0,1,2,4],dtype = [('year','i8'), ('gender','U255'), ('course','U255'), ('enrolment','i8')])\n",
    "preuData = np.genfromtxt('./sourcefiles/enrolment-pre-university-by-level-and-course.csv', delimiter = ',', skip_header = 1, dtype = [('year','i8'), ('level','U255'), ('course','U255'), ('gender','U255'),('enrolment','i8')], missing_values= '-', filling_values= 0)"
   ]
  },
  {
   "cell_type": "markdown",
   "metadata": {},
   "source": [
    "Analysing the content of the datasets"
   ]
  },
  {
   "cell_type": "code",
   "execution_count": 86,
   "metadata": {},
   "outputs": [
    {
     "name": "stdout",
     "output_type": "stream",
     "text": [
      "**Analysis of course intake and enrolment for secondary schools**\n",
      "There are 1338 rows and 5 columns in this dataset\n",
      "\n",
      "- year <class 'numpy.int64'>, isnumeric = True\n",
      "- level <class 'numpy.str_'>, isnumeric = False\n",
      "- course <class 'numpy.str_'>, isnumeric = False\n",
      "- gender <class 'numpy.str_'>, isnumeric = False\n",
      "- enrolment <class 'numpy.int64'>, isnumeric = True\n",
      "\n",
      "\n",
      "There are 41 unique values in the column \"year\"\n",
      "There are 5 unique values in the column \"level\"\n",
      "There are 4 unique values in the column \"course\"\n",
      "There are 2 unique values in the column \"gender\"\n",
      "There are 1102 unique values in the column \"enrolment\"\n"
     ]
    }
   ],
   "source": [
    "counter = 0\n",
    "print(f\"**Analysis of course intake and enrolment for secondary schools**\")\n",
    "print(f\"There are {len(secondaryData)} rows and {len(secondaryData[1])} columns in this dataset\\n\")\n",
    "\n",
    "for i in secondaryData[1]:\n",
    "    print(f\"- {secondaryData.dtype.names[counter]} {type(secondaryData[secondaryData.dtype.names[counter]][1])}, isnumeric = {np.issubdtype(type(secondaryData[secondaryData.dtype.names[counter]][1]), np.number)}\")\n",
    "    counter += 1\n",
    "print('\\n')\n",
    "counter = 0 \n",
    "for i in secondaryData[1]:\n",
    "    print(f\"There are {len(np.unique(secondaryData[secondaryData.dtype.names[counter]]))} unique values in the column \\\"{secondaryData.dtype.names[counter]}\\\"\")\n",
    "    counter += 1"
   ]
  },
  {
   "cell_type": "code",
   "execution_count": 87,
   "metadata": {},
   "outputs": [
    {
     "name": "stdout",
     "output_type": "stream",
     "text": [
      "**Analysis of course intake and enrolment for ITE**\n",
      "There are 144 rows and 4 columns in this dataset\n",
      "\n",
      "- year <class 'numpy.int64'>, isnumeric = True\n",
      "- gender <class 'numpy.str_'>, isnumeric = False\n",
      "- course <class 'numpy.str_'>, isnumeric = False\n",
      "- enrolment <class 'numpy.int64'>, isnumeric = True\n",
      "\n",
      "\n",
      "There are 12 unique values in the column \"year\"\n",
      "There are 2 unique values in the column \"gender\"\n",
      "There are 6 unique values in the column \"course\"\n",
      "There are 136 unique values in the column \"enrolment\"\n"
     ]
    }
   ],
   "source": [
    "counter = 0\n",
    "print(f\"**Analysis of course intake and enrolment for ITE**\")\n",
    "print(f\"There are {len(iteData)} rows and {len(iteData[1])} columns in this dataset\\n\")\n",
    "\n",
    "for i in iteData[1]:\n",
    "    print(f\"- {iteData.dtype.names[counter]} {type(iteData[iteData.dtype.names[counter]][1])}, isnumeric = {np.issubdtype(type(iteData[iteData.dtype.names[counter]][1]), np.number)}\")\n",
    "    counter += 1\n",
    "print('\\n')\n",
    "counter = 0 \n",
    "for i in iteData[1]:\n",
    "    print(f\"There are {len(np.unique(iteData[iteData.dtype.names[counter]]))} unique values in the column \\\"{iteData.dtype.names[counter]}\\\"\")\n",
    "    counter += 1"
   ]
  },
  {
   "cell_type": "code",
   "execution_count": 88,
   "metadata": {},
   "outputs": [
    {
     "name": "stdout",
     "output_type": "stream",
     "text": [
      "**Analysis of course intake and enrolment for polytechnics**\n",
      "There are 384 rows and 4 columns in this dataset\n",
      "\n",
      "- year <class 'numpy.int64'>, isnumeric = True\n",
      "- gender <class 'numpy.str_'>, isnumeric = False\n",
      "- course <class 'numpy.str_'>, isnumeric = False\n",
      "- enrolment <class 'numpy.int64'>, isnumeric = True\n",
      "\n",
      "\n",
      "There are 16 unique values in the column \"year\"\n",
      "There are 2 unique values in the column \"gender\"\n",
      "There are 13 unique values in the column \"course\"\n",
      "There are 371 unique values in the column \"enrolment\"\n"
     ]
    }
   ],
   "source": [
    "counter = 0\n",
    "print(f\"**Analysis of course intake and enrolment for polytechnics**\")\n",
    "print(f\"There are {len(polyData)} rows and {len(polyData[1])} columns in this dataset\\n\")\n",
    "\n",
    "for i in polyData[1]:\n",
    "    print(f\"- {polyData.dtype.names[counter]} {type(polyData[polyData.dtype.names[counter]][1])}, isnumeric = {np.issubdtype(type(polyData[polyData.dtype.names[counter]][1]), np.number)}\")\n",
    "    counter += 1\n",
    "print('\\n')\n",
    "counter = 0 \n",
    "for i in polyData[1]:\n",
    "    print(f\"There are {len(np.unique(polyData[polyData.dtype.names[counter]]))} unique values in the column \\\"{polyData.dtype.names[counter]}\\\"\")\n",
    "    counter += 1"
   ]
  },
  {
   "cell_type": "code",
   "execution_count": 89,
   "metadata": {},
   "outputs": [
    {
     "name": "stdout",
     "output_type": "stream",
     "text": [
      "**Analysis of course intake and enrolment for A-Level Students (JC/MI)**\n",
      "There are 1218 rows and 5 columns in this dataset\n",
      "\n",
      "- year <class 'numpy.int64'>, isnumeric = True\n",
      "- level <class 'numpy.str_'>, isnumeric = False\n",
      "- course <class 'numpy.str_'>, isnumeric = False\n",
      "- gender <class 'numpy.str_'>, isnumeric = False\n",
      "- enrolment <class 'numpy.int64'>, isnumeric = True\n",
      "\n",
      "\n",
      "There are 41 unique values in the column \"year\"\n",
      "There are 5 unique values in the column \"level\"\n",
      "There are 3 unique values in the column \"course\"\n",
      "There are 2 unique values in the column \"gender\"\n",
      "There are 756 unique values in the column \"enrolment\"\n"
     ]
    }
   ],
   "source": [
    "counter = 0\n",
    "print(f\"**Analysis of course intake and enrolment for A-Level Students (JC/MI)**\")\n",
    "print(f\"There are {len(preuData)} rows and {len(preuData[1])} columns in this dataset\\n\")\n",
    "\n",
    "for i in preuData[1]:\n",
    "    print(f\"- {preuData.dtype.names[counter]} {type(preuData[preuData.dtype.names[counter]][1])}, isnumeric = {np.issubdtype(type(preuData[preuData.dtype.names[counter]][1]), np.number)}\")\n",
    "    counter += 1\n",
    "print('\\n')\n",
    "counter = 0 \n",
    "for i in preuData[1]:\n",
    "    print(f\"There are {len(np.unique(preuData[preuData.dtype.names[counter]]))} unique values in the column \\\"{preuData.dtype.names[counter]}\\\"\")\n",
    "    counter += 1"
   ]
  },
  {
   "cell_type": "markdown",
   "metadata": {},
   "source": [
    "Determining which year to start the analysis from, as the datasets all start from different points.\n"
   ]
  },
  {
   "cell_type": "code",
   "execution_count": 90,
   "metadata": {},
   "outputs": [
    {
     "name": "stdout",
     "output_type": "stream",
     "text": [
      "The secondaryData array starts from the year 1980.\n",
      "The iteData array starts from the year 2009.\n",
      "The polyData array starts from the year 2005.\n",
      "The preuData array starts from the year 1980.\n"
     ]
    }
   ],
   "source": [
    "print(f\"The secondaryData array starts from the year {np.unique(secondaryData['year'])[0]}.\")\n",
    "print(f\"The iteData array starts from the year {np.unique(iteData['year'])[0]}.\")\n",
    "print(f\"The polyData array starts from the year {np.unique(polyData['year'])[0]}.\")\n",
    "print(f\"The preuData array starts from the year {np.unique(preuData['year'])[0]}.\")"
   ]
  },
  {
   "cell_type": "markdown",
   "metadata": {},
   "source": [
    "As the first year that all the datasets have in common in 2009, the data will be taken from 2009 onwards. \n"
   ]
  },
  {
   "cell_type": "code",
   "execution_count": 91,
   "metadata": {},
   "outputs": [],
   "source": [
    "secondaryfilter = secondaryData['year'] >= 2009\n",
    "itefilter = iteData['year'] >= 2009\n",
    "polyfilter = polyData['year'] >= 2009\n",
    "preufilter = preuData['year'] >= 2009\n",
    "\n",
    "secondaryClean = secondaryData[secondaryfilter]\n",
    "iteClean = iteData[itefilter]\n",
    "polyClean = polyData[polyfilter]\n",
    "preuClean = preuData[preufilter]\n"
   ]
  }
 ],
 "metadata": {
  "kernelspec": {
   "display_name": "Python 3.9.12 ('base')",
   "language": "python",
   "name": "python3"
  },
  "language_info": {
   "codemirror_mode": {
    "name": "ipython",
    "version": 3
   },
   "file_extension": ".py",
   "mimetype": "text/x-python",
   "name": "python",
   "nbconvert_exporter": "python",
   "pygments_lexer": "ipython3",
   "version": "3.9.12"
  },
  "vscode": {
   "interpreter": {
    "hash": "6770e526c1821d5423e79357bfd4989d9555a179cd8d1e2fda4a6918cc4a56ca"
   }
  }
 },
 "nbformat": 4,
 "nbformat_minor": 2
}

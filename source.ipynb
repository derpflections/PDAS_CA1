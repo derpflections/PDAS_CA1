{
 "cells": [
  {
   "cell_type": "markdown",
   "metadata": {},
   "source": [
    " ST1510 PDAS CA1 Assignment Source File\n",
    "\n",
    " Name: Lee Hong Yi\n",
    "\n",
    " Admin Number: 2223010\n",
    " \n",
    " Class: DAAA/FT/1B/05"
   ]
  },
  {
   "cell_type": "markdown",
   "metadata": {},
   "source": [
    "Importing Libraries"
   ]
  },
  {
   "cell_type": "code",
   "execution_count": 5,
   "metadata": {},
   "outputs": [],
   "source": [
    "import numpy as np \n",
    "import matplotlib as plt"
   ]
  },
  {
   "cell_type": "markdown",
   "metadata": {},
   "source": [
    "Importing data from .csv datasets."
   ]
  },
  {
   "cell_type": "code",
   "execution_count": 6,
   "metadata": {},
   "outputs": [],
   "source": [
    "secondaryData = np.genfromtxt('./sourcefiles/enrolment-secondary-by-level-and-course.csv', delimiter = ',', skip_header = 1, dtype =['i8','U255','U255', 'U255','i8'])\n",
    "#polyData = np.genfromtxt()\n",
    "#iteData = np.genfromtxt()\n",
    "#preuData = np.genfromtxt()"
   ]
  },
  {
   "cell_type": "code",
   "execution_count": 12,
   "metadata": {},
   "outputs": [
    {
     "name": "stdout",
     "output_type": "stream",
     "text": [
      "(1982, 'Secondary 5', 'Normal (Acad)', 'MF', 0)\n"
     ]
    }
   ],
   "source": [
    "print(secondaryData[100])"
   ]
  }
 ],
 "metadata": {
  "kernelspec": {
   "display_name": "Python 3 (ipykernel)",
   "language": "python",
   "name": "python3"
  },
  "language_info": {
   "codemirror_mode": {
    "name": "ipython",
    "version": 3
   },
   "file_extension": ".py",
   "mimetype": "text/x-python",
   "name": "python",
   "nbconvert_exporter": "python",
   "pygments_lexer": "ipython3",
   "version": "3.9.12"
  },
  "vscode": {
   "interpreter": {
    "hash": "6770e526c1821d5423e79357bfd4989d9555a179cd8d1e2fda4a6918cc4a56ca"
   }
  }
 },
 "nbformat": 4,
 "nbformat_minor": 2
}
